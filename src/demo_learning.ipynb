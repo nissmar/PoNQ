{
 "cells": [
  {
   "cell_type": "code",
   "execution_count": null,
   "metadata": {},
   "outputs": [],
   "source": [
    "import utils.mesh_tools as mt\n",
    "from utils.SDF_CNN import CNN_3d_multiple_split\n",
    "from utils.CNN_to_PoNQ_or_lite import CNN_to_PoNQ\n",
    "from utils.ABC_dataset import make_mask_close\n",
    "import torch\n",
    "from meshplot import plot\n",
    "import igl"
   ]
  },
  {
   "cell_type": "code",
   "execution_count": null,
   "metadata": {},
   "outputs": [],
   "source": [
    "state_dict = '../data/pretrained_PoNQ_ABC.pt'\n",
    "example_mesh = '../data/bunny.obj'\n",
    "device = 'cuda' if torch.cuda.is_available() else 'cpu'"
   ]
  },
  {
   "cell_type": "code",
   "execution_count": null,
   "metadata": {},
   "outputs": [],
   "source": [
    "model = CNN_3d_multiple_split(device=device)\n",
    "model.load_state_dict(torch.load(state_dict, map_location=device))\n",
    "model.to(device)\n",
    "model.eval()"
   ]
  },
  {
   "cell_type": "code",
   "execution_count": null,
   "metadata": {},
   "outputs": [],
   "source": [
    "v, f = igl.read_triangle_mesh(example_mesh)\n",
    "v = 2*mt.NDCnormalize(v)\n",
    "grid_n = 33\n",
    "\n",
    "points = mt.mesh_grid(grid_n, True)\n",
    "sdf = igl.signed_distance(points, v, f)[0].reshape(grid_n, grid_n, grid_n)\n",
    "\n",
    "tensor_sdf = torch.tensor(sdf, dtype=torch.float32, device=device)[None, None, ...]\n",
    "tensor_mask = torch.tensor(make_mask_close(sdf, grid_n), dtype=torch.bool, device=device).flatten()[None, ...]"
   ]
  },
  {
   "cell_type": "code",
   "execution_count": null,
   "metadata": {},
   "outputs": [],
   "source": [
    "ponq = CNN_to_PoNQ(model, tensor_sdf, grid_n, tensor_mask, device=device, subd=1)"
   ]
  },
  {
   "cell_type": "code",
   "execution_count": null,
   "metadata": {},
   "outputs": [],
   "source": [
    "plot(*ponq.min_cut_surface(grid_n/2**2))"
   ]
  },
  {
   "cell_type": "code",
   "execution_count": null,
   "metadata": {},
   "outputs": [],
   "source": [
    "plot(*mt.mesh_from_voxels(sdf))"
   ]
  },
  {
   "cell_type": "code",
   "execution_count": null,
   "metadata": {},
   "outputs": [],
   "source": []
  }
 ],
 "metadata": {
  "kernelspec": {
   "display_name": "inria",
   "language": "python",
   "name": "python3"
  },
  "language_info": {
   "codemirror_mode": {
    "name": "ipython",
    "version": 3
   },
   "file_extension": ".py",
   "mimetype": "text/x-python",
   "name": "python",
   "nbconvert_exporter": "python",
   "pygments_lexer": "ipython3",
   "version": "3.9.16"
  }
 },
 "nbformat": 4,
 "nbformat_minor": 2
}
