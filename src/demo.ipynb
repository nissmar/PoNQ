{
 "cells": [
  {
   "cell_type": "code",
   "execution_count": null,
   "metadata": {},
   "outputs": [],
   "source": [
    "from utils.PoNQ import PoNQ\n",
    "import utils.mesh_tools as mt\n",
    "import torch\n",
    "from pytorch3d.loss import chamfer_distance\n",
    "from pytorch3d.ops import knn_points\n",
    "from meshplot import plot\n",
    "import matplotlib.pyplot as plt\n",
    "from tqdm import tqdm\n",
    "import igl"
   ]
  },
  {
   "cell_type": "code",
   "execution_count": null,
   "metadata": {},
   "outputs": [],
   "source": [
    "model_name = '../data/bunny.obj'\n",
    "GRID_N = 16\n",
    "device = 'cuda' if torch.cuda.is_available() else 'cpu'\n"
   ]
  },
  {
   "cell_type": "code",
   "execution_count": null,
   "metadata": {},
   "outputs": [],
   "source": [
    "input_points, input_normals = mt.load_shape(model_name, normalize='NDC', sample_n=int(1.5e5*GRID_N**2/32**2))"
   ]
  },
  {
   "cell_type": "code",
   "execution_count": null,
   "metadata": {},
   "outputs": [],
   "source": [
    "points = mt.mesh_grid(GRID_N, True)\n",
    "V = PoNQ(points[mt.mask_relevant_voxels(GRID_N, input_points)], device)\n",
    "\n",
    "optimizer = torch.optim.Adam([V.points], 1e-3/(GRID_N/32))\n",
    "\n",
    "tensor_surface = torch.tensor(input_points, dtype=torch.float32).to(device)\n",
    "tensor_normals = torch.tensor(input_normals, dtype=torch.float32).to(device)\n",
    "L=[]\n"
   ]
  },
  {
   "cell_type": "code",
   "execution_count": null,
   "metadata": {},
   "outputs": [],
   "source": [
    "def train_simple(V, optimizer, tensor_surface, repulsion_fac=0, sample_fac=1):\n",
    "    optimizer.zero_grad()\n",
    "    masks = torch.rand_like(tensor_surface[:, 0]) < sample_fac\n",
    "    loss = chamfer_distance(\n",
    "        tensor_surface[masks][None, :], V.points[None, :])[0].mean()\n",
    "    if repulsion_fac > 0:\n",
    "        min_dist = knn_points(V.points[None, :], V.points[None, :], K=2).dists[0, :, 1]**2\n",
    "        loss += -repulsion_fac * min_dist.mean()\n",
    "    x = loss.item()\n",
    "    loss.backward()\n",
    "    optimizer.step()\n",
    "    return x\n"
   ]
  },
  {
   "cell_type": "code",
   "execution_count": null,
   "metadata": {},
   "outputs": [],
   "source": [
    "for i in tqdm(range(200)):\n",
    "    L.append((train_simple(V, optimizer, tensor_surface, repulsion_fac=0, sample_fac=.1)))\n",
    "plt.plot(L)\n",
    "plt.yscale('log')"
   ]
  },
  {
   "cell_type": "code",
   "execution_count": null,
   "metadata": {},
   "outputs": [],
   "source": [
    "V.cluster_samples_quadrics_normals(tensor_surface, tensor_normals)"
   ]
  },
  {
   "cell_type": "code",
   "execution_count": null,
   "metadata": {},
   "outputs": [],
   "source": [
    "plot(*V.quadric_ellipse_mesh())"
   ]
  },
  {
   "cell_type": "code",
   "execution_count": null,
   "metadata": {},
   "outputs": [],
   "source": [
    "plot(*V.min_cut_surface(GRID_N))"
   ]
  },
  {
   "cell_type": "code",
   "execution_count": null,
   "metadata": {},
   "outputs": [],
   "source": [
    "plot(*igl.read_triangle_mesh(model_name))"
   ]
  },
  {
   "cell_type": "code",
   "execution_count": null,
   "metadata": {},
   "outputs": [],
   "source": []
  }
 ],
 "metadata": {
  "kernelspec": {
   "display_name": "inria",
   "language": "python",
   "name": "python3"
  },
  "language_info": {
   "codemirror_mode": {
    "name": "ipython",
    "version": 3
   },
   "file_extension": ".py",
   "mimetype": "text/x-python",
   "name": "python",
   "nbconvert_exporter": "python",
   "pygments_lexer": "ipython3",
   "version": "3.9.16"
  }
 },
 "nbformat": 4,
 "nbformat_minor": 2
}
