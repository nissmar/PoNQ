{
 "cells": [
  {
   "attachments": {},
   "cell_type": "markdown",
   "metadata": {},
   "source": [
    "fit quadrics to shape, batch option below"
   ]
  },
  {
   "cell_type": "code",
   "execution_count": 5,
   "metadata": {},
   "outputs": [],
   "source": [
    "from utils.PoNQ import PoNQ\n",
    "import utils.mesh_tools as mt\n",
    "import torch\n",
    "from pytorch3d.loss import chamfer_distance\n",
    "from meshplot import plot\n",
    "import matplotlib.pyplot as plt\n",
    "from tqdm import tqdm\n",
    "import numpy as np\n",
    "import igl\n",
    "import trimesh"
   ]
  },
  {
   "cell_type": "code",
   "execution_count": 13,
   "metadata": {},
   "outputs": [],
   "source": [
    "def get_boundary_edge(f, normals):\n",
    "    boundary_edges = igl.boundary_facets(f)\n",
    "    is_f = f[None, :, :]==boundary_edges[:, 0, None, None]\n",
    "    is_s = f[None, :, :]==boundary_edges[:, 1, None, None]\n",
    "    is_face = np.logical_or(is_f, is_s).sum(-1)==2\n",
    "    return boundary_edges, normals[is_face.argmax(-1)]\n",
    "\n",
    "def uniform_edge_sampling(N, v, boundary_edges, boundary_normals):\n",
    "    edge_length = np.sqrt(((v[boundary_edges[:, 1]]-v[boundary_edges[:, 0]])**2).sum(-1))\n",
    "    selected_edges = np.random.choice(len(edge_length), N, p=edge_length/edge_length.sum())\n",
    "    lambdas = np.random.rand(len(selected_edges))[:, None]\n",
    "    sampled_points = v[boundary_edges[selected_edges][:, 1]]*lambdas + v[boundary_edges[selected_edges][:, 0]]*(1-lambdas)\n",
    "    pseudo_normals = v[boundary_edges[selected_edges][:, 1]] - v[boundary_edges[selected_edges][:, 0]]\n",
    "    pseudo_normals = np.cross(pseudo_normals, boundary_normals[selected_edges])\n",
    "    pseudo_normals /= np.sqrt((pseudo_normals**2).sum(-1, keepdims=True))\n",
    "    return sampled_points, boundary_normals[selected_edges], pseudo_normals"
   ]
  },
  {
   "cell_type": "code",
   "execution_count": 20,
   "metadata": {},
   "outputs": [],
   "source": [
    "device = 'cuda' if torch.cuda.is_available() else 'cpu'\n",
    "\n",
    "GRID_N = 16\n",
    "model_name = '/Users/nmaruani/Documents/These/data/ShirtNoCoat.obj'\n",
    "\n",
    "# GRID_N = 16\n",
    "# model_name = 'TShirtNoCoat.obj'\n",
    "\n",
    "\n",
    "SURFACE_SAMPLING = 25000 * (GRID_N/16)**2\n",
    "EDGE_SAMPLING = 2000 * (GRID_N/16)\n",
    "\n",
    "    \n",
    "# model_name = 'coverrear.off'\n",
    "v, f = mt.load_and_sample_shape(model_name, '', 0, 'NDC')\n",
    "ref_mesh = trimesh.Trimesh(v,f)\n",
    "\n",
    "total_area = igl.doublearea(v,f).sum()/2\n",
    "\n",
    "samples, face_index = trimesh.sample.sample_surface_even(ref_mesh, int(SURFACE_SAMPLING*total_area))\n",
    "samples = np.array(samples)\n",
    "normals = np.array(ref_mesh.face_normals[face_index])\n",
    "boundary_edges, boundary_normals = get_boundary_edge(f, igl.per_face_normals(v,f, np.ones(3)))\n",
    "\n",
    "boundary_edge_length = np.sqrt(((v[boundary_edges[:, 1]]- v[boundary_edges[:, 0]])**2).sum(-1)).sum()\n",
    "sampled_edges, sampled_edges_normals, pseudo_normals = uniform_edge_sampling(int(EDGE_SAMPLING*boundary_edge_length), v, boundary_edges, boundary_normals)\n"
   ]
  },
  {
   "cell_type": "code",
   "execution_count": 21,
   "metadata": {},
   "outputs": [
    {
     "data": {
      "text/plain": [
       "51753"
      ]
     },
     "execution_count": 21,
     "metadata": {},
     "output_type": "execute_result"
    }
   ],
   "source": [
    "points = mt.mesh_grid(GRID_N, True)\n",
    "V = PoNQ(points[mt.mask_relevant_voxels(GRID_N, samples)], device)\n",
    "\n",
    "L=[]\n",
    "global optimizer\n",
    "optimizer = None\n",
    "\n",
    "def reset_optimizer(lr=.01):\n",
    "    global optimizer\n",
    "    optimizer = torch.optim.Adam([V.points], lr)\n",
    "reset_optimizer()\n",
    "\n",
    "tensor_surface = torch.tensor(np.concatenate((samples, sampled_edges, sampled_edges)), dtype=torch.float32).to(device)\n",
    "tensor_normals = torch.tensor(np.concatenate((normals, sampled_edges_normals, pseudo_normals)), dtype=torch.float32).to(device)\n",
    "\n",
    "len(tensor_surface)"
   ]
  },
  {
   "attachments": {},
   "cell_type": "markdown",
   "metadata": {},
   "source": [
    "### Further optim"
   ]
  },
  {
   "cell_type": "code",
   "execution_count": 22,
   "metadata": {},
   "outputs": [],
   "source": [
    "def train_simple(V, repulsion_fac=0, sample_fac=1):\n",
    "    optimizer.zero_grad()\n",
    "    masks = torch.rand_like(tensor_surface[:, 0]) < sample_fac\n",
    "    loss = chamfer_distance(tensor_surface[masks][None,:], V.points[None,:])[0].mean()\n",
    "    if repulsion_fac>0:\n",
    "        loss += -repulsion_fac*(V.distance_to_centroids(V.points,V.points).topk(2, 0, False).values[1].mean())\n",
    "    x = loss.item()\n",
    "    loss.backward()\n",
    "    optimizer.step() \n",
    "    return x\n"
   ]
  },
  {
   "cell_type": "code",
   "execution_count": 24,
   "metadata": {},
   "outputs": [
    {
     "name": "stderr",
     "output_type": "stream",
     "text": [
      "100%|██████████| 100/100 [00:02<00:00, 43.87it/s]\n"
     ]
    },
    {
     "data": {
      "image/png": "[encoded data removed]",
      "text/plain": [
       "<Figure size 640x480 with 1 Axes>"
      ]
     },
     "metadata": {},
     "output_type": "display_data"
    }
   ],
   "source": [
    "for i in tqdm(range(100)):\n",
    "    L.append((train_simple(V, repulsion_fac=.1, sample_fac=.1)))\n",
    "        # scheduler.step()\n",
    "plt.plot(L)\n",
    "plt.yscale('log')"
   ]
  },
  {
   "attachments": {},
   "cell_type": "markdown",
   "metadata": {},
   "source": [
    "### Simple plot"
   ]
  },
  {
   "cell_type": "code",
   "execution_count": 25,
   "metadata": {},
   "outputs": [],
   "source": [
    "V.cluster_samples_quadrics_normals(tensor_surface, tensor_normals)"
   ]
  },
  {
   "cell_type": "code",
   "execution_count": 26,
   "metadata": {},
   "outputs": [
    {
     "data": {
      "application/vnd.jupyter.widget-view+json": {
       "model_id": "b937ee6b7d474006946f211e69d13bc4",
       "version_major": 2,
       "version_minor": 0
      },
      "text/plain": [
       "Renderer(camera=PerspectiveCamera(children=(DirectionalLight(color='white', intensity=0.6, position=(-0.002100…"
      ]
     },
     "metadata": {},
     "output_type": "display_data"
    },
    {
     "data": {
      "text/plain": [
       "<meshplot.Viewer.Viewer at 0x19651aaf0>"
      ]
     },
     "execution_count": 26,
     "metadata": {},
     "output_type": "execute_result"
    }
   ],
   "source": [
    "plot(*V.quadric_ellipse_mesh(size=0.02, subdivisions=0))"
   ]
  },
  {
   "cell_type": "code",
   "execution_count": 30,
   "metadata": {},
   "outputs": [
    {
     "data": {
      "application/vnd.jupyter.widget-view+json": {
       "model_id": "a49eac5957434610a502a335a36be01c",
       "version_major": 2,
       "version_minor": 0
      },
      "text/plain": [
       "Renderer(camera=PerspectiveCamera(children=(DirectionalLight(color='white', intensity=0.6, position=(-0.001789…"
      ]
     },
     "metadata": {},
     "output_type": "display_data"
    }
   ],
   "source": [
    "nvertices, in_triangle, in_scores = V.min_cut_surface(32, return_scores=True, open_treshold=.35)\n",
    "mp = plot(nvertices, in_triangle)\n",
    "mp.add_mesh(*V.quadric_ellipse_mesh())\n",
    "\n",
    "mt.export_obj(nvertices, in_triangle, 'tshirt')"
   ]
  }
 ],
 "metadata": {
  "kernelspec": {
   "display_name": "Python 3.9.13 ('inria')",
   "language": "python",
   "name": "python3"
  },
  "language_info": {
   "codemirror_mode": {
    "name": "ipython",
    "version": 3
   },
   "file_extension": ".py",
   "mimetype": "text/x-python",
   "name": "python",
   "nbconvert_exporter": "python",
   "pygments_lexer": "ipython3",
   "version": "3.9.15"
  },
  "orig_nbformat": 4,
  "vscode": {
   "interpreter": {
    "hash": "58e83627acc6d058f657b0f6d5867b185d1a1a7149f889eec0a18761397c5507"
   }
  }
 },
 "nbformat": 4,
 "nbformat_minor": 2
}
