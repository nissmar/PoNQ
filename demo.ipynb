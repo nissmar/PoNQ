{
 "cells": [
  {
   "cell_type": "code",
   "execution_count": 1,
   "metadata": {},
   "outputs": [],
   "source": [
    "from utils.PoNQ import PoNQ\n",
    "import utils.mesh_tools as mt\n",
    "import torch\n",
    "from pytorch3d.loss import chamfer_distance\n",
    "from pytorch3d.ops import knn_points\n",
    "from meshplot import plot\n",
    "import matplotlib.pyplot as plt\n",
    "from tqdm import tqdm\n"
   ]
  },
  {
   "cell_type": "code",
   "execution_count": 2,
   "metadata": {},
   "outputs": [],
   "source": [
    "model_name = '/Users/nmaruani/Documents/These/data/2kbunny.obj'\n",
    "GRID_N = 16\n",
    "device='cpu'"
   ]
  },
  {
   "cell_type": "code",
   "execution_count": null,
   "metadata": {},
   "outputs": [],
   "source": [
    "input_points, input_normals = mt.load_shape(model_name, normalize='NDC', sample_n=int(1.5e5*GRID_N**2/32**2))"
   ]
  },
  {
   "cell_type": "code",
   "execution_count": 3,
   "metadata": {},
   "outputs": [],
   "source": [
    "points = mt.mesh_grid(GRID_N, True)\n",
    "V = PoNQ(points[mt.mask_relevant_voxels(GRID_N, input_points)], device)\n",
    "\n",
    "optimizer = torch.optim.Adam([V.points], 1e-3/(GRID_N/32))\n",
    "\n",
    "\n",
    "tensor_surface = torch.tensor(input_points, dtype=torch.float32).to(device)\n",
    "tensor_normals = torch.tensor(input_normals, dtype=torch.float32).to(device)\n",
    "L=[]\n"
   ]
  },
  {
   "cell_type": "code",
   "execution_count": 4,
   "metadata": {},
   "outputs": [],
   "source": [
    "def train_simple(V, optimizer, tensor_surface, repulsion_fac=0, sample_fac=1):\n",
    "    optimizer.zero_grad()\n",
    "    masks = torch.rand_like(tensor_surface[:, 0]) < sample_fac\n",
    "    loss = chamfer_distance(\n",
    "        tensor_surface[masks][None, :], V.points[None, :])[0].mean()\n",
    "    if repulsion_fac > 0:\n",
    "        min_dist = knn_points(V.points[None, :], V.points[None, :], K=2).dists[0, :, 1]**2\n",
    "        loss += -repulsion_fac * min_dist.mean()\n",
    "    x = loss.item()\n",
    "    loss.backward()\n",
    "    optimizer.step()\n",
    "    return x\n"
   ]
  },
  {
   "cell_type": "code",
   "execution_count": 7,
   "metadata": {},
   "outputs": [
    {
     "name": "stderr",
     "output_type": "stream",
     "text": [
      "100%|██████████| 100/100 [00:03<00:00, 32.45it/s]\n"
     ]
    },
    {
     "data": {
      "image/png": "[encoded data removed]",
      "text/plain": [
       "<Figure size 640x480 with 1 Axes>"
      ]
     },
     "metadata": {},
     "output_type": "display_data"
    }
   ],
   "source": [
    "for i in tqdm(range(100)):\n",
    "    L.append((train_simple(V, optimizer, tensor_surface, repulsion_fac=0, sample_fac=.1)))\n",
    "    \n",
    "        # scheduler.step()\n",
    "plt.plot(L)\n",
    "plt.yscale('log')"
   ]
  },
  {
   "cell_type": "code",
   "execution_count": 8,
   "metadata": {},
   "outputs": [],
   "source": [
    "V.cluster_samples_quadrics_normals(tensor_surface, tensor_normals)"
   ]
  },
  {
   "cell_type": "code",
   "execution_count": 9,
   "metadata": {},
   "outputs": [
    {
     "data": {
      "application/vnd.jupyter.widget-view+json": {
       "model_id": "c389dd2138914e809ee7543536be1107",
       "version_major": 2,
       "version_minor": 0
      },
      "text/plain": [
       "Renderer(camera=PerspectiveCamera(children=(DirectionalLight(color='white', intensity=0.6, position=(-0.001600…"
      ]
     },
     "metadata": {},
     "output_type": "display_data"
    },
    {
     "data": {
      "text/plain": [
       "<meshplot.Viewer.Viewer at 0x10dceb040>"
      ]
     },
     "execution_count": 9,
     "metadata": {},
     "output_type": "execute_result"
    }
   ],
   "source": [
    "plot(*V.quadric_ellipse_mesh())"
   ]
  },
  {
   "cell_type": "code",
   "execution_count": 11,
   "metadata": {},
   "outputs": [
    {
     "data": {
      "application/vnd.jupyter.widget-view+json": {
       "model_id": "3f69332f223a42569abb1e587a643596",
       "version_major": 2,
       "version_minor": 0
      },
      "text/plain": [
       "Renderer(camera=PerspectiveCamera(children=(DirectionalLight(color='white', intensity=0.6, position=(-0.001586…"
      ]
     },
     "metadata": {},
     "output_type": "display_data"
    },
    {
     "data": {
      "text/plain": [
       "<meshplot.Viewer.Viewer at 0x186a60400>"
      ]
     },
     "execution_count": 11,
     "metadata": {},
     "output_type": "execute_result"
    }
   ],
   "source": [
    "plot(*V.min_cut_surface(GRID_N))"
   ]
  }
 ],
 "metadata": {
  "kernelspec": {
   "display_name": "inria",
   "language": "python",
   "name": "python3"
  },
  "language_info": {
   "codemirror_mode": {
    "name": "ipython",
    "version": 3
   },
   "file_extension": ".py",
   "mimetype": "text/x-python",
   "name": "python",
   "nbconvert_exporter": "python",
   "pygments_lexer": "ipython3",
   "version": "3.9.15"
  }
 },
 "nbformat": 4,
 "nbformat_minor": 2
}
