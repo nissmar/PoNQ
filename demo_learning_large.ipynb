{
 "cells": [
  {
   "cell_type": "code",
   "execution_count": null,
   "metadata": {},
   "outputs": [],
   "source": [
    "import sys\n",
    "sys.path.append('src/utils')\n",
    "import mesh_tools as mt\n",
    "from SDF_CNN import CNN_3d_multiple_split\n",
    "from CNN_to_PoNQ_or_lite import CNN_to_PoNQ\n",
    "from ABC_dataset import make_mask_close\n",
    "import torch\n",
    "from meshplot import plot\n",
    "import igl\n",
    "from tqdm import tqdm"
   ]
  },
  {
   "cell_type": "code",
   "execution_count": null,
   "metadata": {},
   "outputs": [],
   "source": [
    "state_dict = 'data/pretrained_PoNQ_ABC.pt'\n",
    "example_mesh = 'data/bunny.obj'\n",
    "device = 'cuda' if torch.cuda.is_available() else 'cpu'"
   ]
  },
  {
   "cell_type": "code",
   "execution_count": null,
   "metadata": {},
   "outputs": [],
   "source": [
    "model = CNN_3d_multiple_split(device=device)\n",
    "model.load_state_dict(torch.load(state_dict, map_location=device))\n",
    "model.to(device)\n",
    "model.eval()"
   ]
  },
  {
   "cell_type": "code",
   "execution_count": null,
   "metadata": {},
   "outputs": [],
   "source": [
    "v, f = igl.read_triangle_mesh(example_mesh)\n",
    "v = 2*mt.NDCnormalize(v)\n",
    "grid_n = 65\n",
    "\n",
    "points = mt.mesh_grid(grid_n, True)\n",
    "sdf = igl.signed_distance(points, v, f)[0].reshape(grid_n, grid_n, grid_n)\n",
    "\n",
    "tensor_sdf = torch.tensor(sdf, dtype=torch.float32, device=device)[None, None, ...]\n",
    "tensor_mask = torch.tensor(make_mask_close(sdf, grid_n), dtype=torch.bool, device=device).flatten()[None, ...]"
   ]
  },
  {
   "cell_type": "code",
   "execution_count": null,
   "metadata": {},
   "outputs": [],
   "source": [
    "ponq = CNN_to_PoNQ(model, tensor_sdf, grid_n, tensor_mask, device=device, subd=1)"
   ]
  },
  {
   "cell_type": "code",
   "execution_count": null,
   "metadata": {},
   "outputs": [],
   "source": [
    "ponq.get_vstars()[0].shape"
   ]
  },
  {
   "cell_type": "code",
   "execution_count": null,
   "metadata": {},
   "outputs": [],
   "source": [
    "plot(*ponq.min_cut_surface(grid_n))"
   ]
  },
  {
   "cell_type": "code",
   "execution_count": null,
   "metadata": {},
   "outputs": [],
   "source": [
    "plot(*mt.mesh_from_voxels(sdf))"
   ]
  },
  {
   "cell_type": "markdown",
   "metadata": {},
   "source": [
    "### Large tensor"
   ]
  },
  {
   "cell_type": "code",
   "execution_count": null,
   "metadata": {},
   "outputs": [],
   "source": [
    "kernel_size = 33\n",
    "stride = (kernel_size-1)//2\n",
    "\n",
    "with torch.no_grad():\n",
    "    x = tensor_sdf.clone()\n",
    "\n",
    "    patches = x.unfold(4, kernel_size, stride).unfold(3, kernel_size, stride).unfold(2, kernel_size, stride)\n",
    "    patches = patches.reshape(1, -1, kernel_size, kernel_size, kernel_size).permute(1, 0, 2, 3, 4)\n",
    "\n",
    "    patch_mask = tensor_mask.reshape(1, 1, grid_n-1, grid_n-1,grid_n-1)\n",
    "    patch_mask = patch_mask.unfold(4, kernel_size-1, stride).unfold(3, kernel_size-1, stride).unfold(2, kernel_size-1, stride)\n",
    "    patch_mask = patch_mask.reshape(1, -1,  kernel_size-1,  kernel_size-1,  kernel_size-1).permute(1, 0, 2, 3, 4)\n",
    "    patch_mask = patch_mask.reshape(-1, (kernel_size-1)**3)\n",
    "\n",
    "    patch_grid = torch.tensor(mt.mesh_grid(grid_n-1, True)*(grid_n-1)/grid_n, dtype=torch.float32)\n",
    "    patch_grid = patch_grid.reshape(grid_n-1, grid_n-1, grid_n-1, 3).permute((3, 0, 1, 2))\n",
    "    patch_grid = patch_grid.unfold(3, kernel_size-1, stride).unfold(2, kernel_size-1, stride).unfold(1, kernel_size-1, stride)\n",
    "    patch_grid = patch_grid.reshape(3, -1, (kernel_size-1), (kernel_size-1), (kernel_size-1))\n",
    "    patch_grid = patch_grid.reshape(3, -1, (kernel_size-1)**3).permute((1, 2, 0))\n",
    "    i=0\n",
    "    model.change_grid_size(kernel_size)\n",
    "    model.decoder_vstars.scale = grid_n\n",
    "    model.decoder_points.scale = grid_n\n",
    "    all_vstars = []\n",
    "    all_mean_normals = []\n",
    "    all_quadrics = []\n",
    "    test_POINTS=[]\n",
    "    for i in tqdm(range(len(patches))):\n",
    "        model.grid = patch_grid[i].to(device)\n",
    "        # if i==len(patches)-1:\n",
    "        #     stride = kernel_size-1\n",
    "        _, predicted_vstars, predicted_mean_normals, predicted_quadrics, predicted_bool = model(patches[None, i]*(grid_n-1)/32)\n",
    "        start = stride//2\n",
    "        end = kernel_size-1-stride//2\n",
    "        final_mask = (predicted_bool*patch_mask[i]).reshape(kernel_size-1, kernel_size-1, kernel_size-1)[start:end, start:end, start:end]>.5\n",
    "        predicted_vstars = predicted_vstars.reshape(kernel_size-1, kernel_size-1, kernel_size-1, 4, 3)[start:end, start:end, start:end][final_mask]\n",
    "        predicted_mean_normals = predicted_mean_normals.reshape(kernel_size-1, kernel_size-1, kernel_size-1, 4, 3)[start:end, start:end, start:end][final_mask]\n",
    "        predicted_quadrics = predicted_quadrics.reshape(kernel_size-1, kernel_size-1, kernel_size-1, 4, 3, 3)[start:end, start:end, start:end][final_mask]\n",
    "        \n",
    "        all_vstars.append(predicted_vstars)\n",
    "        all_mean_normals.append(predicted_mean_normals)\n",
    "        all_quadrics.append(predicted_quadrics)\n",
    "        torch.cuda.empty_cache()\n",
    "        test_POINTS.append(model.grid.reshape(kernel_size-1, kernel_size-1,kernel_size-1, 3)[start:end, start:end, start:end].reshape(-1, 3))\n",
    "\n",
    "    all_vstars = torch.cat(all_vstars)\n",
    "    all_mean_normals = torch.cat(all_mean_normals)\n",
    "    all_quadrics = torch.cat(all_quadrics)\n",
    "    test_POINTS = torch.cat(test_POINTS)\n",
    "# # # ..."
   ]
  },
  {
   "cell_type": "code",
   "execution_count": null,
   "metadata": {},
   "outputs": [],
   "source": [
    "all_vstars.shape"
   ]
  },
  {
   "cell_type": "code",
   "execution_count": null,
   "metadata": {},
   "outputs": [],
   "source": [
    "ponq.get_vstars()[0].min()"
   ]
  },
  {
   "cell_type": "code",
   "execution_count": null,
   "metadata": {},
   "outputs": [],
   "source": [
    "all_vstars.mean(-2).min()"
   ]
  },
  {
   "cell_type": "code",
   "execution_count": null,
   "metadata": {},
   "outputs": [],
   "source": [
    "all_vstars.mean(-2).shape, ponq.get_vstars()[0].shape"
   ]
  },
  {
   "cell_type": "code",
   "execution_count": null,
   "metadata": {},
   "outputs": [],
   "source": [
    "plot(ponq.get_vstars()[0].cpu().detach().numpy(), shading={'point_size':.051})"
   ]
  },
  {
   "cell_type": "code",
   "execution_count": null,
   "metadata": {},
   "outputs": [],
   "source": [
    "plot(all_vstars.mean(-2).cpu().detach().numpy(), shading={'point_size':.051})"
   ]
  },
  {
   "cell_type": "code",
   "execution_count": null,
   "metadata": {},
   "outputs": [],
   "source": []
  },
  {
   "cell_type": "markdown",
   "metadata": {},
   "source": [
    "### H5py check"
   ]
  },
  {
   "cell_type": "code",
   "execution_count": null,
   "metadata": {},
   "outputs": [],
   "source": [
    "import h5py\n",
    "grid_n=33\n",
    "file = h5py.File('/data/nmaruani/DATASETS/gt_Quadrics/00000002.hdf5')\n",
    "# original SDF is in [-0.5, 0.5]^3\n",
    "sdf0 = 2 * file['{}_sdf'.format(grid_n-1)][:][None, :]"
   ]
  },
  {
   "cell_type": "code",
   "execution_count": null,
   "metadata": {},
   "outputs": [],
   "source": [
    "v, f = igl.read_triangle_mesh('/data/nmaruani/DATASETS/ABC/00000002/model.obj')\n",
    "v = 2*mt.NDCnormalize(v)\n",
    "points = mt.mesh_grid(grid_n, True)\n",
    "sdf = igl.signed_distance(points, v, f)[0].reshape(grid_n, grid_n, grid_n)"
   ]
  },
  {
   "cell_type": "code",
   "execution_count": null,
   "metadata": {},
   "outputs": [],
   "source": [
    "sdf.shape"
   ]
  },
  {
   "cell_type": "code",
   "execution_count": null,
   "metadata": {},
   "outputs": [],
   "source": [
    "import numpy as np\n",
    "grid_p = 3\n",
    "mt.mesh_grid(grid_p-1, True)*(grid_p-2)/(grid_p-1)"
   ]
  }
 ],
 "metadata": {
  "kernelspec": {
   "display_name": "inria",
   "language": "python",
   "name": "python3"
  },
  "language_info": {
   "codemirror_mode": {
    "name": "ipython",
    "version": 3
   },
   "file_extension": ".py",
   "mimetype": "text/x-python",
   "name": "python",
   "nbconvert_exporter": "python",
   "pygments_lexer": "ipython3",
   "version": "3.9.16"
  }
 },
 "nbformat": 4,
 "nbformat_minor": 2
}
